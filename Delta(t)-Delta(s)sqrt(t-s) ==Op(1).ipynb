{
 "cells": [
  {
   "cell_type": "code",
   "execution_count": 4,
   "id": "eb68aa7c",
   "metadata": {},
   "outputs": [],
   "source": [
    "import numpy as np\n",
    "import matplotlib.pyplot as plt"
   ]
  },
  {
   "cell_type": "code",
   "execution_count": 1,
   "id": "048d7b61",
   "metadata": {},
   "outputs": [
    {
     "name": "stdout",
     "output_type": "stream",
     "text": [
      "Active code page: 65001\n"
     ]
    }
   ],
   "source": [
    "import plotly\n",
    "import plotly.graph_objs as go\n",
    "import plotly.express as px\n",
    "from plotly.subplots import make_subplots\n",
    "import plotly.io as pio\n",
    "\n",
    "import numpy as np\n",
    "import dash\n",
    "import seaborn as sns\n",
    "\n",
    "import ipyvolume as ipv\n",
    "\n",
    "!chcp 65001\n",
    "from ipywidgets import IntProgress\n",
    "from IPython.display import display\n",
    "import ipywidgets as widgets\n",
    "\n",
    "import matplotlib.pyplot as plt"
   ]
  },
  {
   "cell_type": "code",
   "execution_count": 4,
   "id": "137e8502",
   "metadata": {},
   "outputs": [],
   "source": [
    "N = 100\n",
    "np.random.seed(0)\n",
    "X = np.random.random(size = 100)"
   ]
  },
  {
   "cell_type": "code",
   "execution_count": 5,
   "id": "3a79b201",
   "metadata": {},
   "outputs": [],
   "source": [
    "X = np.linspace(0, 1, N)\n",
    "X[0], X[-1] = 1e-8, 1-1e-8"
   ]
  },
  {
   "cell_type": "code",
   "execution_count": 6,
   "id": "3a4bb31a",
   "metadata": {},
   "outputs": [],
   "source": [
    "t,s = np.mgrid[0:1:500j, 0:1:500j]\n",
    "C = np.zeros(shape = (len(t), len(t)))\n",
    "rez = np.zeros(shape = (len(t), len(t)))\n",
    "\n",
    "\n",
    "def I(X, s, t):\n",
    "    if X<=t and X>s:\n",
    "        return 1.0\n",
    "    else:\n",
    "        return 0.0\n",
    "\n",
    "def Delta_t_s_sqrt(t,s, mass_X, N, mode = 1, epsilon = 0.0):\n",
    "    \"\"\"func of [Delta(t)-Delta(s)] / sqrt(t-s)\"\"\"\n",
    "    N = len(mass_X)\n",
    "    for i in range(len(t)):\n",
    "        for j in range(len(t)):\n",
    "            if t[i][j]>s[i][j]:\n",
    "                C[i][j] = sum([I(X, s[i][j], t[i][j]) for X in mass_X])\n",
    "            else:\n",
    "                C[i][j] = N * (t[i][j]-s[i][j])\n",
    "                \n",
    "    for i in range(len(t)):\n",
    "        for j in range(len(t)):\n",
    "            if t[i][j]>s[i][j] + epsilon:\n",
    "                if mode == 1:\n",
    "                    rez[i][j] = np.sqrt(N)*abs((t[i][j]-s[i][j]) - 1.0/N * C[i][j]) / np.sqrt((t[i][j]-s[i][j])*np.log(1./abs(t[i][j]-s[i][j])))\n",
    "                if mode == 2:\n",
    "                    rez[i][j] = np.sqrt(N)*abs((t[i][j]-s[i][j]) - 1.0/N * C[i][j])\n",
    "            else:\n",
    "                #print(i,j, rez.shape)\n",
    "                rez[i][j] = 0.0\n",
    "    return (t,s,rez)"
   ]
  },
  {
   "cell_type": "code",
   "execution_count": 57,
   "id": "e761e776",
   "metadata": {},
   "outputs": [],
   "source": [
    "def f_Delta_t_s_sqrt(t, s, N, X):\n",
    "    F_t = np.sum((X <= t))/N\n",
    "    F_s = np.sum((X <= s))/N\n",
    "    rez = abs((F_t - t) - (F_s - s))/np.sqrt((t-s)*np.log(1./(abs(t-s))))\n",
    "    return np.sqrt(N)*rez"
   ]
  },
  {
   "cell_type": "code",
   "execution_count": 8,
   "id": "e07d6245",
   "metadata": {},
   "outputs": [
    {
     "name": "stdout",
     "output_type": "stream",
     "text": [
      "CPU times: total: 14.7 s\n",
      "Wall time: 15 s\n"
     ]
    }
   ],
   "source": [
    "%%time\n",
    "f = Delta_t_s_sqrt(t,s,X, N, mode = 2, epsilon = 0)"
   ]
  },
  {
   "cell_type": "code",
   "execution_count": 14,
   "id": "cd95cdc1",
   "metadata": {},
   "outputs": [
    {
     "data": {
      "text/plain": [
       "0.15991983967935774"
      ]
     },
     "execution_count": 14,
     "metadata": {},
     "output_type": "execute_result"
    }
   ],
   "source": [
    "max(f[2].ravel())"
   ]
  },
  {
   "cell_type": "code",
   "execution_count": 36,
   "id": "c02d4f5e",
   "metadata": {},
   "outputs": [
    {
     "data": {
      "text/plain": [
       "0.352515231095895"
      ]
     },
     "execution_count": 36,
     "metadata": {},
     "output_type": "execute_result"
    }
   ],
   "source": [
    "ee = 0.2\n",
    "(ee + 1e-9)/(np.sqrt(ee*np.log(1/ee)))"
   ]
  },
  {
   "cell_type": "code",
   "execution_count": null,
   "id": "31eac923",
   "metadata": {},
   "outputs": [
    {
     "name": "stdout",
     "output_type": "stream",
     "text": [
      "M = 9.654293277037333\n",
      "\n"
     ]
    }
   ],
   "source": [
    "tt, ss = 0.3, 0.2\n",
    "np.random.seed(0)\n",
    "for N in [1000, 10000, 100000]:\n",
    "    X = np.sort(np.random.random(size = N))\n",
    "    #X = np.linspace(0, 1, N)\n",
    "    #X[0], X[-1] = 1e-8, 1-1e-8\n",
    "    #tt, ss = X[2*len(X)//10+1], X[len(X)//10]\n",
    "    #print(tt, ss, \"\\n\")\n",
    "    F_t = np.sum((X <= tt))/N\n",
    "    F_s = np.sum((X <= ss))/N\n",
    "    #print(F_t, F_s, \"\\n\")\n",
    "    #print(f\"N = {N}, t-s = {tt-ss}, rez = {f_Delta_t_s_sqrt(tt, ss, N, X)}, \\n\")\n",
    "    M = 0.0\n",
    "    for i in range(len(X)-1):\n",
    "        for j in range(i+1, len(X)):\n",
    "            M = max(M, f_Delta_t_s_sqrt(X[j], X[i], N, X))\n",
    "    print(f\"M = {M}\\n\")"
   ]
  },
  {
   "cell_type": "code",
   "execution_count": null,
   "id": "049b3c00",
   "metadata": {},
   "outputs": [],
   "source": [
    "ipv.figure()\n",
    "ipv.style.use('dark')\n",
    "ipv.plot_surface(f[0], f[1], f[2], color=\"orange\")\n",
    "ipv.plot_wireframe(f[0], f[1], f[2], color=\"yellow\")\n",
    "ipv.show()"
   ]
  },
  {
   "cell_type": "code",
   "execution_count": 8,
   "id": "46553ffd",
   "metadata": {},
   "outputs": [],
   "source": [
    "# fig = go.Figure(data=[go.Surface(x=f[1],y=f[0],z=f[2], \n",
    "#                                  #colorscale = [[0, 'white'], [0.5, 'black'], [1.0, 'white']],\n",
    "#                                  #colorscale = \"Viridis\",\n",
    "#                                  colorscale='Inferno'\n",
    "#                                 )\n",
    "#                      ])\n",
    "# '''[Blackbody,Bluered,Blues,Cividis,Earth,Electric,Greens,Greys,Hot,Jet,Picnic,Portl,\n",
    "# Rainbow,RdBu,Reds,Viridis,YlGnBu,YlOrRd]'''\n",
    "# #fig.update_traces(contours_z=dict(show=True, usecolormap=True,\n",
    "# #                                  highlightcolor=\"limegreen\", project_z=True))\n",
    "\n",
    "# fig.update_layout(title='Delta_t_s_sqrt', \n",
    "#                   autosize=False,\n",
    "#                   width=700, height=700,\n",
    "#                   margin = dict(l=65, r=50, b=65, t=90), \n",
    "#                   scene = dict(\n",
    "#                     xaxis_title='T AXIS',\n",
    "#                     yaxis_title='S AXIS',\n",
    "#                     zaxis_title='Delta_t_s_sqrt(t,s)'),\n",
    "#                   legend_orientation=\"h\"\n",
    "# )\n",
    "# fig.full_figure_for_development(warn=False)\n",
    "# fig.show()"
   ]
  },
  {
   "cell_type": "code",
   "execution_count": 9,
   "id": "5a206682",
   "metadata": {},
   "outputs": [],
   "source": [
    "# e = 1e-16\n",
    "# N = 100\n",
    "# (1/N+e)/( np.sqrt( e * np.log(1/e) ) )"
   ]
  },
  {
   "cell_type": "markdown",
   "id": "ca92d00e",
   "metadata": {},
   "source": [
    "<!-- \"\"\"['aggrnyl', 'agsunset', 'algae', 'amp', 'armyrose', 'balance',\n",
    "     'blackbody', 'bluered', 'blues', 'blugrn', 'bluyl', 'brbg',\n",
    "     'brwnyl', 'bugn', 'bupu', 'burg', 'burgyl', 'cividis', 'curl',\n",
    "     'darkmint', 'deep', 'delta', 'dense', 'earth', 'edge', 'electric',\n",
    "     'emrld', 'fall', 'geyser', 'gnbu', 'gray', 'greens', 'greys',\n",
    "     'haline', 'hot', 'hsv', 'ice', 'icefire', 'inferno', 'jet',\n",
    "     'magenta', 'magma', 'matter', 'mint', 'mrybm', 'mygbm', 'oranges',\n",
    "     'orrd', 'oryel', 'oxy', 'peach', 'phase', 'picnic', 'pinkyl',\n",
    "     'piyg', 'plasma', 'plotly3', 'portland', 'prgn', 'pubu', 'pubugn',\n",
    "     'puor', 'purd', 'purp', 'purples', 'purpor', 'rainbow', 'rdbu',\n",
    "     'rdgy', 'rdpu', 'rdylbu', 'rdylgn', 'redor', 'reds', 'solar',\n",
    "     'spectral', 'speed', 'sunset', 'sunsetdark', 'teal', 'tealgrn',\n",
    "     'tealrose', 'tempo', 'temps', 'thermal', 'tropic', 'turbid',\n",
    "     'turbo', 'twilight', 'viridis', 'ylgn', 'ylgnbu', 'ylorbr',\n",
    "     'ylorrd']\"\"\" -->"
   ]
  },
  {
   "cell_type": "code",
   "execution_count": 9,
   "id": "15a8064b",
   "metadata": {},
   "outputs": [],
   "source": [
    "def plot_wireframe(xx, yy, z, color='black', linewidth=1.5):\n",
    "    line_marker = dict(color=color, width=linewidth)\n",
    "    lines = []\n",
    "    for i, j, k in zip(xx, yy, z):\n",
    "        lines.append(go.Scatter3d(x=i, y=j, z=k, mode='lines', line=line_marker))\n",
    "        #lines.append(go.Scatter3d(x=j, y=i, z=-k, mode='lines', line=line_marker))\n",
    "        \n",
    "    layout = go.Layout(showlegend=False)\n",
    "    return go.Figure(data=lines, layout=layout)\n",
    "\n",
    "\n",
    "fig = plot_wireframe(f[0], f[1], f[2])\n",
    "fig.update_layout(margin=dict(l=0, r=0, b=0, t=0))\n",
    "fig.show()"
   ]
  },
  {
   "cell_type": "code",
   "execution_count": 10,
   "id": "63b08f1c",
   "metadata": {},
   "outputs": [],
   "source": [
    "#fig = plot_wireframe(f[0], f[1], f[2])\n",
    "#fig.update_layout(margin=dict(l=0, r=0, b=0, t=0))\n",
    "#fig.show()"
   ]
  },
  {
   "cell_type": "code",
   "execution_count": 11,
   "id": "9a688060",
   "metadata": {},
   "outputs": [],
   "source": [
    "%%time\n",
    "def plott():\n",
    "    t1, t2 = [0.4, 0.8]\n",
    "    s1, s2 = [0.1, 0.3]\n",
    "    X_s, X_t = 0.2, 0.6\n",
    "    C = 0.5\n",
    "    #С = 0.15\n",
    "    N = 3\n",
    "    tt,ss = np.mgrid[0:1:100j, 0:1:100j]\n",
    "    rez = np.zeros(shape = (len(tt), len(tt)))\n",
    "    for i in range(len(tt)):\n",
    "        for j in range(len(tt)):\n",
    "            s,t = ss[i][j], tt[i][j]\n",
    "            if (s>=s1 and s<X_s) and (t>=t1 and t<X_t):\n",
    "                rez[i][j] = abs(t-s-C)\n",
    "            if (s>=X_s and s<=s2) and (t>=t1 and t<X_t):\n",
    "                rez[i][j] = abs(t-s-C+1./N)\n",
    "            if (s>=X_s and s<=s2) and (t>=X_t and t<=t2):\n",
    "                rez[i][j] = abs(t-s-C)\n",
    "            if (s>=s1 and s<X_s) and (t>=X_t and t<=t2):\n",
    "                rez[i][j] = abs(t-s-C-1./N)\n",
    "            \n",
    "    \n",
    "    fig = go.Figure(data=[go.Surface(x=tt,y=ss,z=rez, colorscale='Inferno')])\n",
    "\n",
    "    fig.update_layout(title='Delta_t_s_sqrt', \n",
    "                      autosize=False,\n",
    "                      width=700, height=700,\n",
    "                      margin = dict(l=65, r=50, b=65, t=90), \n",
    "                      scene = dict(\n",
    "                        xaxis_title='T AXIS',\n",
    "                        yaxis_title='S AXIS',\n",
    "                        zaxis_title='Delta_t_s_sqrt(t,s)'),\n",
    "                      legend_orientation=\"h\"\n",
    "    )\n",
    "    fig.full_figure_for_development(warn=False)\n",
    "    fig.show()\n",
    "    \n",
    "    \n",
    "    \"\"\"fig = plot_wireframe(tt, ss, rez)\n",
    "    fig.update_layout(margin=dict(l=0, r=0, b=0, t=0))\n",
    "    fig.show()\"\"\"\n",
    "\n",
    "plott()                "
   ]
  },
  {
   "cell_type": "code",
   "execution_count": 14,
   "id": "d5ed5fb7",
   "metadata": {},
   "outputs": [],
   "source": [
    "t, s = 0.6, 0.2\n",
    "C = 0.5\n",
    "abs(t-s-C)"
   ]
  },
  {
   "cell_type": "code",
   "execution_count": 15,
   "id": "af908048",
   "metadata": {},
   "outputs": [],
   "source": [
    "e = 1e-6\n",
    "t, s = 0.6-e, 0.2-e\n",
    "C = 0.15\n",
    "abs(t-s-C)"
   ]
  },
  {
   "cell_type": "code",
   "execution_count": 16,
   "id": "6f274075",
   "metadata": {},
   "outputs": [],
   "source": [
    "tt,ss = np.mgrid[0:1:220j, 0:1:220j]\n",
    "tt == ss"
   ]
  },
  {
   "cell_type": "code",
   "execution_count": 20,
   "id": "e6e567b8",
   "metadata": {},
   "outputs": [],
   "source": [
    "print(5)"
   ]
  },
  {
   "cell_type": "code",
   "execution_count": 37,
   "id": "e3739876",
   "metadata": {},
   "outputs": [],
   "source": [
    "# Генерируем выборку X из равномерного распределения (здесь просто для примера сгенерируем случайные данные)\n",
    "#np.random.seed(0)\n",
    "N = 30\n",
    "X = np.sort(np.random.uniform(0, 1, N))\n",
    "\n",
    "# Определяем функцию Delta\n",
    "def Delta(t):\n",
    "    return np.sum(X <= t) / len(X) - t\n",
    "\n",
    "# Задаем значения t и s\n",
    "t_values = np.linspace(0, 1, 1000)  # Значения t\n",
    "s_values = np.linspace(0, 1, 1000)  # Значения s\n",
    "\n",
    "# Вычисляем значения Delta для всех комбинаций t и s\n",
    "delta_values = np.zeros((len(t_values), len(s_values)))\n",
    "for i, t in enumerate(t_values):\n",
    "    for j, s in enumerate(s_values):\n",
    "        if t>s:\n",
    "            delta_values[i, j] = N * abs(Delta(t) - Delta(s))/np.sqrt((t-s) * np.log(1/(abs(t-s))))\n",
    "        else:\n",
    "            delta_values[i, j] = 0.0\n",
    "\n",
    "# # Строим 3D-график\n",
    "T, S = np.meshgrid(t_values, s_values)\n",
    "# fig = plt.figure()\n",
    "# ax = fig.add_subplot(111, projection='3d')\n",
    "# ax.plot_surface(T, S, delta_values, cmap='viridis')\n",
    "\n",
    "# # Настройка осей\n",
    "# ax.set_xlabel('t')\n",
    "# ax.set_ylabel('s')\n",
    "# ax.set_zlabel('|Delta(t) - Delta(s)|')\n",
    "\n",
    "# plt.show()"
   ]
  },
  {
   "cell_type": "code",
   "execution_count": 38,
   "id": "b87c42ef",
   "metadata": {},
   "outputs": [],
   "source": [
    "np.max(delta_values)"
   ]
  },
  {
   "cell_type": "markdown",
   "id": "41c97a1f",
   "metadata": {},
   "source": [
    "# <center> Best Practice for 3D simulation - "
   ]
  },
  {
   "cell_type": "code",
   "execution_count": 39,
   "id": "35da1e91",
   "metadata": {},
   "outputs": [],
   "source": [
    "ipv.figure()\n",
    "ipv.style.use('dark')\n",
    "ipv.plot_surface(T, S, delta_values, color=\"orange\")\n",
    "ipv.plot_wireframe(T, S, delta_values, color=\"yellow\")\n",
    "ipv.show()"
   ]
  },
  {
   "cell_type": "code",
   "execution_count": null,
   "id": "f174f5c3",
   "metadata": {},
   "outputs": [],
   "source": []
  }
 ],
 "metadata": {
  "kernelspec": {
   "display_name": "Python 3 (ipykernel)",
   "language": "python",
   "name": "python3"
  },
  "language_info": {
   "codemirror_mode": {
    "name": "ipython",
    "version": 3
   },
   "file_extension": ".py",
   "mimetype": "text/x-python",
   "name": "python",
   "nbconvert_exporter": "python",
   "pygments_lexer": "ipython3",
   "version": "3.8.3"
  }
 },
 "nbformat": 4,
 "nbformat_minor": 5
}
